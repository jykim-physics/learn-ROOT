{
 "cells": [
  {
   "cell_type": "code",
   "execution_count": 8,
   "id": "ddb9058b",
   "metadata": {},
   "outputs": [
    {
     "ename": "TypeError",
     "evalue": "none of the 3 overloaded methods succeeded. Full details:\n  RooBCPGenDecay::RooBCPGenDecay(const RooBCPGenDecay& other, const char* name = 0) =>\n    TypeError: takes at most 2 arguments (13 given)\n  RooBCPGenDecay::RooBCPGenDecay() =>\n    TypeError: takes at most 0 arguments (13 given)\n  RooBCPGenDecay::RooBCPGenDecay(const char* name, const char* title, RooRealVar& t, RooAbsCategory& tag, RooAbsReal& tau, RooAbsReal& dm, RooAbsReal& avgMistag, RooAbsReal& a, RooAbsReal& b, RooAbsReal& delMistag, RooAbsReal& mu, const RooResolutionModel& model, RooBCPGenDecay::DecayType type = DoubleSided) =>\n    TypeError: could not convert argument 12",
     "output_type": "error",
     "traceback": [
      "\u001b[0;31m---------------------------------------------------------------------------\u001b[0m",
      "\u001b[0;31mTypeError\u001b[0m                                 Traceback (most recent call last)",
      "Cell \u001b[0;32mIn [8], line 28\u001b[0m\n\u001b[1;32m     25\u001b[0m resModel \u001b[38;5;241m=\u001b[39m RooGaussian(\u001b[38;5;124m\"\u001b[39m\u001b[38;5;124mresModel\u001b[39m\u001b[38;5;124m\"\u001b[39m, \u001b[38;5;124m\"\u001b[39m\u001b[38;5;124mGaussian Time Resolution\u001b[39m\u001b[38;5;124m\"\u001b[39m, t, timeResMean, timeResSigma)\n\u001b[1;32m     27\u001b[0m \u001b[38;5;66;03m# Create the RooBCPGenDecay PDF (single-sided decay type)\u001b[39;00m\n\u001b[0;32m---> 28\u001b[0m decay_pdf \u001b[38;5;241m=\u001b[39m \u001b[43mROOT\u001b[49m\u001b[38;5;241;43m.\u001b[39;49m\u001b[43mRooBCPGenDecay\u001b[49m\u001b[43m(\u001b[49m\u001b[38;5;124;43m\"\u001b[39;49m\u001b[38;5;124;43mdecay_pdf\u001b[39;49m\u001b[38;5;124;43m\"\u001b[39;49m\u001b[43m,\u001b[49m\u001b[43m \u001b[49m\u001b[38;5;124;43m\"\u001b[39;49m\u001b[38;5;124;43mBCP Gen Decay\u001b[39;49m\u001b[38;5;124;43m\"\u001b[39;49m\u001b[43m,\u001b[49m\u001b[43m \u001b[49m\u001b[43mt\u001b[49m\u001b[43m,\u001b[49m\u001b[43m \u001b[49m\u001b[43mtag\u001b[49m\u001b[43m,\u001b[49m\u001b[43m \u001b[49m\u001b[43mtau\u001b[49m\u001b[43m,\u001b[49m\u001b[43m \u001b[49m\u001b[43mdm\u001b[49m\u001b[43m,\u001b[49m\u001b[43m \u001b[49m\u001b[43mavgMistag\u001b[49m\u001b[43m,\u001b[49m\u001b[43m \u001b[49m\u001b[43ma\u001b[49m\u001b[43m,\u001b[49m\u001b[43m \u001b[49m\u001b[43mb\u001b[49m\u001b[43m,\u001b[49m\u001b[43m \u001b[49m\u001b[43mdelMistag\u001b[49m\u001b[43m,\u001b[49m\u001b[43m \u001b[49m\u001b[43mmu\u001b[49m\u001b[43m,\u001b[49m\u001b[43m \u001b[49m\u001b[43mresModel\u001b[49m\u001b[43m,\u001b[49m\u001b[43m \u001b[49m\u001b[43mROOT\u001b[49m\u001b[38;5;241;43m.\u001b[39;49m\u001b[43mRooBCPGenDecay\u001b[49m\u001b[38;5;241;43m.\u001b[39;49m\u001b[43mSingleSided\u001b[49m\u001b[43m)\u001b[49m\n\u001b[1;32m     29\u001b[0m \u001b[38;5;66;03m# decay_pdf = ROOT.RooBCPGenDecay(\"decay_pdf\", \"BCP Gen Decay\", t, tag, tau, dm, avgMistag, a, b, delMistag, mu, resModel)\u001b[39;00m\n\u001b[1;32m     30\u001b[0m \n\u001b[1;32m     31\u001b[0m \u001b[38;5;66;03m# Generate toy data from the decay PDF\u001b[39;00m\n\u001b[1;32m     32\u001b[0m data \u001b[38;5;241m=\u001b[39m decay_pdf\u001b[38;5;241m.\u001b[39mgenerate(RooArgSet(t, tag), \u001b[38;5;241m10000\u001b[39m)\n",
      "File \u001b[0;32m~/miniforge3/envs/draw/lib/python3.10/site-packages/ROOT/_pythonization/_roofit/_roodecays.py:61\u001b[0m, in \u001b[0;36mRooBCPGenDecay.__init__\u001b[0;34m(self, *args, **kwargs)\u001b[0m\n\u001b[1;32m     59\u001b[0m \u001b[38;5;124mr\u001b[39m\u001b[38;5;124;03m\"\"\"The RooBCPGenDecay constructor is pythonized with enum values.\"\"\"\u001b[39;00m\n\u001b[1;32m     60\u001b[0m kwargs \u001b[38;5;241m=\u001b[39m _decaytype_string_to_enum(\u001b[38;5;28mself\u001b[39m, kwargs)\n\u001b[0;32m---> 61\u001b[0m \u001b[38;5;28;43mself\u001b[39;49m\u001b[38;5;241;43m.\u001b[39;49m\u001b[43m_init\u001b[49m\u001b[43m(\u001b[49m\u001b[38;5;241;43m*\u001b[39;49m\u001b[43margs\u001b[49m\u001b[43m,\u001b[49m\u001b[43m \u001b[49m\u001b[38;5;241;43m*\u001b[39;49m\u001b[38;5;241;43m*\u001b[39;49m\u001b[43mkwargs\u001b[49m\u001b[43m)\u001b[49m\n",
      "\u001b[0;31mTypeError\u001b[0m: none of the 3 overloaded methods succeeded. Full details:\n  RooBCPGenDecay::RooBCPGenDecay(const RooBCPGenDecay& other, const char* name = 0) =>\n    TypeError: takes at most 2 arguments (13 given)\n  RooBCPGenDecay::RooBCPGenDecay() =>\n    TypeError: takes at most 0 arguments (13 given)\n  RooBCPGenDecay::RooBCPGenDecay(const char* name, const char* title, RooRealVar& t, RooAbsCategory& tag, RooAbsReal& tau, RooAbsReal& dm, RooAbsReal& avgMistag, RooAbsReal& a, RooAbsReal& b, RooAbsReal& delMistag, RooAbsReal& mu, const RooResolutionModel& model, RooBCPGenDecay::DecayType type = DoubleSided) =>\n    TypeError: could not convert argument 12"
     ]
    },
    {
     "name": "stdout",
     "output_type": "stream",
     "text": [
      "[#0] WARNING:InputArguments -- The parameter 'timeResSigma' with range [-1e+30, 1e+30] of the RooGaussian 'resModel' exceeds the safe range of (0, inf). Advise to limit its range.\n"
     ]
    }
   ],
   "source": [
    "import ROOT\n",
    "from ROOT import RooFit, RooRealVar, RooCategory, RooArgSet, RooResolutionModel, RooGaussian\n",
    "from IPython.display import Image, display\n",
    "\n",
    "# Define time (lifetime) variable\n",
    "t = RooRealVar(\"t\", \"time\", 0.0, 10.0)\n",
    "\n",
    "# Define tagging category (0 = B, 1 = anti-B)\n",
    "tag = RooCategory(\"tag\", \"Tagging\")\n",
    "tag.defineType(\"B\", 1)\n",
    "tag.defineType(\"anti-B\", -1)\n",
    "\n",
    "# Define parameters for the decay model\n",
    "tau = RooRealVar(\"tau\", \"lifetime\", 1.5, 0.5, 3.0)         # Decay lifetime\n",
    "dm = RooRealVar(\"dm\", \"delta mass\", 0.5, 0.1, 1.0)         # Mass difference\n",
    "avgMistag = RooRealVar(\"avgMistag\", \"Average Mistag Rate\", 0.1, 0.0, 0.5)\n",
    "a = RooRealVar(\"a\", \"CP Violation Amplitude\", 0.1, -1.0, 1.0)\n",
    "b = RooRealVar(\"b\", \"Decay Asymmetry\", 0.0, -1.0, 1.0)\n",
    "delMistag = RooRealVar(\"delMistag\", \"Delta Mistag\", 0.0)\n",
    "mu = RooRealVar(\"mu\", \"B0/B0-bar mass difference\", 0.0)\n",
    "\n",
    "# Resolution model (use a simple Gaussian for time resolution)\n",
    "timeResMean = RooRealVar(\"timeResMean\", \"Time Resolution Mean\", 0.0)\n",
    "timeResSigma = RooRealVar(\"timeResSigma\", \"Time Resolution Sigma\", 0.1)\n",
    "resModel = RooGaussian(\"resModel\", \"Gaussian Time Resolution\", t, timeResMean, timeResSigma)\n",
    "\n",
    "# Create the RooBCPGenDecay PDF (single-sided decay type)\n",
    "decay_pdf = ROOT.RooBCPGenDecay(\"decay_pdf\", \"BCP Gen Decay\", t, tag, tau, dm, avgMistag, a, b, delMistag, mu, resModel, ROOT.RooBCPGenDecay.SingleSided)\n",
    "# decay_pdf = ROOT.RooBCPGenDecay(\"decay_pdf\", \"BCP Gen Decay\", t, tag, tau, dm, avgMistag, a, b, delMistag, mu, resModel)\n",
    "\n",
    "# Generate toy data from the decay PDF\n",
    "data = decay_pdf.generate(RooArgSet(t, tag), 10000)\n",
    "\n",
    "# Create a frame for plotting time (t)\n",
    "tframe = t.frame(RooFit.Title(\"BCPGenDecay PDF with CP Violation\"))\n",
    "\n",
    "# Plot the generated data\n",
    "data.plotOn(tframe)\n",
    "\n",
    "# Plot the decay PDF on the same frame\n",
    "decay_pdf.plotOn(tframe)\n",
    "\n",
    "# Create a canvas to draw the plot\n",
    "c1 = ROOT.TCanvas(\"c1\", \"BCPGenDecay\", 800, 600)\n",
    "tframe.Draw()\n",
    "\n",
    "# Save the plot as an image\n",
    "c1.SaveAs(\"BCPGenDecay_plot.png\")\n",
    "\n",
    "# Display the image in Jupyter notebook\n",
    "display(Image(filename=\"BCPGenDecay_plot.png\"))\n"
   ]
  },
  {
   "cell_type": "code",
   "execution_count": 10,
   "id": "693a5125",
   "metadata": {},
   "outputs": [
    {
     "data": {
      "image/png": "[encoded data removed]",
      "text/plain": [
       "<IPython.core.display.Image object>"
      ]
     },
     "metadata": {},
     "output_type": "display_data"
    },
    {
     "name": "stdout",
     "output_type": "stream",
     "text": [
      "[#1] INFO:InputArguments -- The formula exp(-@0/@1)_t_tau_dm claims to use the variables (t,tau,dm) but only (t,tau) seem to be in use.\n",
      "  inputs:         exp(-@0/@1)\n",
      "[#1] INFO:Plotting -- RooAbsReal::plotOn(decay_pdf) plot on t integrates over variables (tag)\n"
     ]
    },
    {
     "name": "stderr",
     "output_type": "stream",
     "text": [
      "Warning in <TCanvas::Constructor>: Deleting canvas with same name: c1\n",
      "Info in <TCanvas::Print>: png file BCPGenDecay_plot.png has been created\n"
     ]
    }
   ],
   "source": [
    "import ROOT\n",
    "from ROOT import RooFit, RooRealVar, RooCategory, RooArgSet, RooGaussModel\n",
    "from IPython.display import Image, display\n",
    "\n",
    "# Define time (lifetime) variable\n",
    "t = RooRealVar(\"t\", \"time\", 0.0, 10.0)\n",
    "\n",
    "# Define tagging category (0 = B, 1 = anti-B)\n",
    "tag = RooCategory(\"tag\", \"Tagging\")\n",
    "tag.defineType(\"B\", 1)\n",
    "tag.defineType(\"anti-B\", -1)\n",
    "\n",
    "# Define parameters for the decay model\n",
    "tau = RooRealVar(\"tau\", \"lifetime\", 1.5, 0.5, 3.0)         # Decay lifetime\n",
    "dm = RooRealVar(\"dm\", \"delta mass\", 0.5, 0.1, 1.0)         # Mass difference\n",
    "avgMistag = RooRealVar(\"avgMistag\", \"Average Mistag Rate\", 0.1, 0.0, 0.5)\n",
    "a = RooRealVar(\"a\", \"CP Violation Amplitude\", 0.1, -1.0, 1.0)\n",
    "b = RooRealVar(\"b\", \"Decay Asymmetry\", 0.0, -1.0, 1.0)\n",
    "delMistag = RooRealVar(\"delMistag\", \"Delta Mistag\", 0.0)\n",
    "mu = RooRealVar(\"mu\", \"B0/B0-bar mass difference\", 0.0)\n",
    "\n",
    "# Use a RooGaussModel for the time resolution (which is a valid RooResolutionModel)\n",
    "timeResMean = RooRealVar(\"timeResMean\", \"Time Resolution Mean\", 0.0)\n",
    "timeResSigma = RooRealVar(\"timeResSigma\", \"Time Resolution Sigma\", 0.1)\n",
    "resModel = RooGaussModel(\"resModel\", \"Gaussian Time Resolution\", t, timeResMean, timeResSigma)\n",
    "\n",
    "# Create the RooBCPGenDecay PDF with the required arguments\n",
    "decay_pdf = ROOT.RooBCPGenDecay(\"decay_pdf\", \"BCP Gen Decay\", t, tag, tau, dm, avgMistag, a, b, delMistag, mu, resModel, ROOT.RooBCPGenDecay.SingleSided)\n",
    "\n",
    "# Generate toy data from the decay PDF\n",
    "data = decay_pdf.generate(RooArgSet(t, tag), 10000)\n",
    "\n",
    "# Create a frame for plotting time (t)\n",
    "tframe = t.frame(RooFit.Title(\"BCPGenDecay PDF with CP Violation\"))\n",
    "\n",
    "# Plot the generated data\n",
    "data.plotOn(tframe)\n",
    "\n",
    "# Plot the decay PDF on the same frame\n",
    "decay_pdf.plotOn(tframe)\n",
    "\n",
    "# Create a canvas to draw the plot\n",
    "c1 = ROOT.TCanvas(\"c1\", \"BCPGenDecay\", 800, 600)\n",
    "tframe.Draw()\n",
    "\n",
    "# Save the plot as an image\n",
    "c1.SaveAs(\"BCPGenDecay_plot.png\")\n",
    "\n",
    "# Display the image in Jupyter notebook\n",
    "display(Image(filename=\"BCPGenDecay_plot.png\"))\n"
   ]
  },
  {
   "cell_type": "code",
   "execution_count": null,
   "id": "05ba1ec3",
   "metadata": {},
   "outputs": [],
   "source": []
  }
 ],
 "metadata": {
  "kernelspec": {
   "display_name": "Python 3 (ipykernel)",
   "language": "python",
   "name": "python3"
  },
  "language_info": {
   "codemirror_mode": {
    "name": "ipython",
    "version": 3
   },
   "file_extension": ".py",
   "mimetype": "text/x-python",
   "name": "python",
   "nbconvert_exporter": "python",
   "pygments_lexer": "ipython3",
   "version": "3.10.6"
  }
 },
 "nbformat": 4,
 "nbformat_minor": 5
}
