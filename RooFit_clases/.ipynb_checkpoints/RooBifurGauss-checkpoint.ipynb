{
 "cells": [
  {
   "cell_type": "code",
   "execution_count": null,
   "id": "ae16dd2a",
   "metadata": {},
   "outputs": [],
   "source": [
    "import ROOT\n",
    "from ROOT import RooFit, RooRealVar, RooBifurGauss, RooArgSet\n",
    "from IPython.display import Image, display\n",
    "\n",
    "# Define the observable x\n",
    "x = RooRealVar(\"x\", \"x\", -10, 10)\n",
    "\n",
    "# Define parameters for the bifurcated Gaussian\n",
    "mean = RooRealVar(\"mean\", \"mean of Gaussian\", 0, -10, 10)    # Mean\n",
    "sigmaL = RooRealVar(\"sigmaL\", \"width of left side\", 2, 0.1, 10)  # Width on the left side of the mean\n",
    "sigmaR = RooRealVar(\"sigmaR\", \"width of right side\", 3, 0.1, 10) # Width on the right side of the mean\n",
    "\n",
    "# Create a bifurcated Gaussian PDF\n",
    "bifurGauss = RooBifurGauss(\"bifurGauss\", \"Bifurcated Gaussian PDF\", x, mean, sigmaL, sigmaR)\n",
    "\n",
    "# Generate a toy dataset from the bifurcated Gaussian PDF\n",
    "data = bifurGauss.generate(RooArgSet(x), 10000)\n",
    "\n",
    "# Create a frame to plot x\n",
    "xframe = x.frame(RooFit.Title(\"Bifurcated Gaussian PDF\"))\n",
    "\n",
    "# Plot the generated data\n",
    "data.plotOn(xframe)\n",
    "\n",
    "# Plot the bifurcated Gaussian PDF on the same frame\n",
    "bifurGauss.plotOn(xframe)\n",
    "\n",
    "# Create a canvas to draw the plot\n",
    "c1 = ROOT.TCanvas(\"c1\", \"Bifurcated Gaussian\", 800, 600)\n",
    "xframe.Draw()\n",
    "\n",
    "# Save the plot as an image\n",
    "c1.SaveAs(\"BifurGauss_plot.png\")\n",
    "\n",
    "# Display the image in Jupyter notebook\n",
    "display(Image(filename=\"BifurGauss_plot.png\"))\n"
   ]
  },
  {
   "cell_type": "code",
   "execution_count": null,
   "id": "c0722025",
   "metadata": {},
   "outputs": [],
   "source": []
  }
 ],
 "metadata": {
  "kernelspec": {
   "display_name": "Python 3 (ipykernel)",
   "language": "python",
   "name": "python3"
  },
  "language_info": {
   "codemirror_mode": {
    "name": "ipython",
    "version": 3
   },
   "file_extension": ".py",
   "mimetype": "text/x-python",
   "name": "python",
   "nbconvert_exporter": "python",
   "pygments_lexer": "ipython3",
   "version": "3.10.6"
  }
 },
 "nbformat": 4,
 "nbformat_minor": 5
}
