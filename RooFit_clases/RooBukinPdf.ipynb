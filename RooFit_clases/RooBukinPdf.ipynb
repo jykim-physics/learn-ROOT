{
 "cells": [
  {
   "cell_type": "code",
   "execution_count": 1,
   "id": "e324ca3b",
   "metadata": {},
   "outputs": [
    {
     "name": "stdout",
     "output_type": "stream",
     "text": [
      "Welcome to JupyROOT 6.26/06\n"
     ]
    },
    {
     "ename": "TypeError",
     "evalue": "none of the 3 overloaded methods succeeded. Full details:\n  RooBukinPdf::RooBukinPdf(const char* name, const char* title, RooAbsReal& _x, RooAbsReal& _Xp, RooAbsReal& _sigp, RooAbsReal& _xi, RooAbsReal& _rho1, RooAbsReal& _rho2) =>\n    TypeError: takes at least 8 arguments (7 given)\n  RooBukinPdf::RooBukinPdf(const RooBukinPdf& other, const char* name = 0) =>\n    TypeError: takes at most 2 arguments (7 given)\n  RooBukinPdf::RooBukinPdf() =>\n    TypeError: takes at most 0 arguments (7 given)",
     "output_type": "error",
     "traceback": [
      "\u001b[0;31m---------------------------------------------------------------------------\u001b[0m",
      "\u001b[0;31mTypeError\u001b[0m                                 Traceback (most recent call last)",
      "Cell \u001b[0;32mIn [1], line 15\u001b[0m\n\u001b[1;32m     12\u001b[0m rho \u001b[38;5;241m=\u001b[39m ROOT\u001b[38;5;241m.\u001b[39mRooRealVar(\u001b[38;5;124m\"\u001b[39m\u001b[38;5;124mrho\u001b[39m\u001b[38;5;124m\"\u001b[39m, \u001b[38;5;124m\"\u001b[39m\u001b[38;5;124mrho\u001b[39m\u001b[38;5;124m\"\u001b[39m, \u001b[38;5;241m0.5\u001b[39m, \u001b[38;5;241m0\u001b[39m, \u001b[38;5;241m1\u001b[39m)             \u001b[38;5;66;03m# Background parameter\u001b[39;00m\n\u001b[1;32m     14\u001b[0m \u001b[38;5;66;03m# Create a Bukin PDF\u001b[39;00m\n\u001b[0;32m---> 15\u001b[0m bukin_pdf \u001b[38;5;241m=\u001b[39m \u001b[43mROOT\u001b[49m\u001b[38;5;241;43m.\u001b[39;49m\u001b[43mRooBukinPdf\u001b[49m\u001b[43m(\u001b[49m\u001b[38;5;124;43m\"\u001b[39;49m\u001b[38;5;124;43mbukin_pdf\u001b[39;49m\u001b[38;5;124;43m\"\u001b[39;49m\u001b[43m,\u001b[49m\u001b[43m \u001b[49m\u001b[38;5;124;43m\"\u001b[39;49m\u001b[38;5;124;43mBukin PDF\u001b[39;49m\u001b[38;5;124;43m\"\u001b[39;49m\u001b[43m,\u001b[49m\u001b[43m \u001b[49m\u001b[43mx\u001b[49m\u001b[43m,\u001b[49m\u001b[43m \u001b[49m\u001b[43mmean\u001b[49m\u001b[43m,\u001b[49m\u001b[43m \u001b[49m\u001b[43msigma\u001b[49m\u001b[43m,\u001b[49m\u001b[43m \u001b[49m\u001b[43mnu\u001b[49m\u001b[43m,\u001b[49m\u001b[43m \u001b[49m\u001b[43mrho\u001b[49m\u001b[43m)\u001b[49m\n\u001b[1;32m     17\u001b[0m \u001b[38;5;66;03m# Generate toy data from the Bukin PDF\u001b[39;00m\n\u001b[1;32m     18\u001b[0m data \u001b[38;5;241m=\u001b[39m bukin_pdf\u001b[38;5;241m.\u001b[39mgenerate(ROOT\u001b[38;5;241m.\u001b[39mRooArgSet(x), \u001b[38;5;241m10000\u001b[39m)\n",
      "\u001b[0;31mTypeError\u001b[0m: none of the 3 overloaded methods succeeded. Full details:\n  RooBukinPdf::RooBukinPdf(const char* name, const char* title, RooAbsReal& _x, RooAbsReal& _Xp, RooAbsReal& _sigp, RooAbsReal& _xi, RooAbsReal& _rho1, RooAbsReal& _rho2) =>\n    TypeError: takes at least 8 arguments (7 given)\n  RooBukinPdf::RooBukinPdf(const RooBukinPdf& other, const char* name = 0) =>\n    TypeError: takes at most 2 arguments (7 given)\n  RooBukinPdf::RooBukinPdf() =>\n    TypeError: takes at most 0 arguments (7 given)"
     ]
    }
   ],
   "source": [
    "import ROOT\n",
    "from ROOT import RooFit, RooRealVar, RooBukinPdf\n",
    "from IPython.display import Image, display\n",
    "\n",
    "# Define the variable x\n",
    "x = ROOT.RooRealVar(\"x\", \"x\", -10, 10)  # Range for the variable x\n",
    "\n",
    "# Define parameters for the Bukin PDF\n",
    "mean = ROOT.RooRealVar(\"mean\", \"mean\", 0, -10, 10)         # Peak position\n",
    "sigma = ROOT.RooRealVar(\"sigma\", \"sigma\", 1, 0.1, 5)       # Width of the peak\n",
    "nu = ROOT.RooRealVar(\"nu\", \"nu\", 1, 0, 5)                   # Asymmetry parameter\n",
    "rho = ROOT.RooRealVar(\"rho\", \"rho\", 0.5, 0, 1)             # Background parameter\n",
    "\n",
    "# Create a Bukin PDF\n",
    "bukin_pdf = ROOT.RooBukinPdf(\"bukin_pdf\", \"Bukin PDF\", x, mean, sigma, nu, rho)\n",
    "\n",
    "# Generate toy data from the Bukin PDF\n",
    "data = bukin_pdf.generate(ROOT.RooArgSet(x), 10000)\n",
    "\n",
    "# Create a frame for plotting\n",
    "xframe = x.frame(RooFit.Title(\"Bukin PDF\"))\n",
    "\n",
    "# Plot the generated data\n",
    "data.plotOn(xframe)\n",
    "\n",
    "# Plot the Bukin PDF on the same frame\n",
    "bukin_pdf.plotOn(xframe)\n",
    "\n",
    "# Create a canvas to draw the plot\n",
    "c1 = ROOT.TCanvas(\"c1\", \"Bukin PDF\", 800, 600)\n",
    "xframe.Draw()\n",
    "\n",
    "# Save the plot as an image\n",
    "c1.SaveAs(\"BukinPDF_plot.png\")\n",
    "\n",
    "# Display the image in Jupyter notebook\n",
    "display(Image(filename=\"BukinPDF_plot.png\"))\n"
   ]
  },
  {
   "cell_type": "code",
   "execution_count": 6,
   "id": "29268983",
   "metadata": {},
   "outputs": [
    {
     "data": {
      "image/png": "[encoded data removed]",
      "text/plain": [
       "<IPython.core.display.Image object>"
      ]
     },
     "metadata": {},
     "output_type": "display_data"
    },
    {
     "name": "stdout",
     "output_type": "stream",
     "text": [
      "[#0] WARNING:InputArguments -- The parameter 'rho1' with range [-1, 1] of the RooBukinPdf 'bukin_pdf' exceeds the safe range of (-1, 0). Advise to limit its range.\n",
      "[#0] WARNING:InputArguments -- The parameter 'rho2' with range [0, 1] of the RooBukinPdf 'bukin_pdf' exceeds the safe range of (0, 1). Advise to limit its range.\n",
      "[#0] WARNING:InputArguments -- The parameter 'xi' with range [0, 5] of the RooBukinPdf 'bukin_pdf' exceeds the safe range of (-1, 1). Advise to limit its range.\n",
      "[#1] INFO:NumericIntegration -- RooRealIntegral::init(bukin_pdf_Int[x]) using numeric integrator RooIntegrator1D to calculate Int(x)\n",
      "[#1] INFO:NumericIntegration -- RooRealIntegral::init(bukin_pdf_Int[x]) using numeric integrator RooIntegrator1D to calculate Int(x)\n",
      "[#1] INFO:NumericIntegration -- RooRealIntegral::init(bukin_pdf_Int[x]) using numeric integrator RooIntegrator1D to calculate Int(x)\n"
     ]
    },
    {
     "name": "stderr",
     "output_type": "stream",
     "text": [
      "Error in <TFoam::MakeActiveList>: Integrand function is zero  \n",
      "\n",
      "Warning in <TCanvas::Constructor>: Deleting canvas with same name: c1\n",
      "Info in <TCanvas::Print>: png file BukinPDF_plot.png has been created\n"
     ]
    }
   ],
   "source": [
    "import ROOT\n",
    "from ROOT import RooFit, RooRealVar, RooBukinPdf\n",
    "from IPython.display import Image, display\n",
    "\n",
    "# Define the variable x\n",
    "x = ROOT.RooRealVar(\"x\", \"x\", -8, -6)  # Range for the variable x\n",
    "\n",
    "# Define parameters for the Bukin PDF\n",
    "mean = ROOT.RooRealVar(\"mean\", \"mean\", 0, -10, 10)          # Peak position\n",
    "sigma = ROOT.RooRealVar(\"sigma\", \"sigma\", 1, 0.1, 5)        # Width of the peak\n",
    "xi = ROOT.RooRealVar(\"xi\", \"xi\", 1, 0, 5)                   # Asymmetry parameter\n",
    "rho1 = ROOT.RooRealVar(\"rho1\", \"rho1\", -0.5, -1, 1)          # First rho parameter\n",
    "rho2 = ROOT.RooRealVar(\"rho2\", \"rho2\", 0.5, 0, 1)          # Second rho parameter\n",
    "\n",
    "# Create a Bukin PDF\n",
    "bukin_pdf = ROOT.RooBukinPdf(\"bukin_pdf\", \"Bukin PDF\", x, mean, sigma, xi, rho1, rho2)\n",
    "\n",
    "# Generate toy data from the Bukin PDF\n",
    "data = bukin_pdf.generate(ROOT.RooArgSet(x), 10000)\n",
    "\n",
    "# Create a frame for plotting\n",
    "xframe = x.frame(RooFit.Title(\"Bukin PDF\"))\n",
    "\n",
    "# Plot the generated data\n",
    "data.plotOn(xframe)\n",
    "\n",
    "# Plot the Bukin PDF on the same frame\n",
    "bukin_pdf.plotOn(xframe)\n",
    "\n",
    "# Create a canvas to draw the plot\n",
    "c1 = ROOT.TCanvas(\"c1\", \"Bukin PDF\", 800, 600)\n",
    "xframe.Draw()\n",
    "\n",
    "# Save the plot as an image\n",
    "c1.SaveAs(\"BukinPDF_plot.png\")\n",
    "\n",
    "# Display the image in Jupyter notebook\n",
    "display(Image(filename=\"BukinPDF_plot.png\"))\n"
   ]
  },
  {
   "cell_type": "code",
   "execution_count": 11,
   "id": "a160790f",
   "metadata": {},
   "outputs": [
    {
     "data": {
      "image/png": "[encoded data removed]",
      "text/plain": [
       "<IPython.core.display.Image object>"
      ]
     },
     "metadata": {},
     "output_type": "display_data"
    },
    {
     "name": "stdout",
     "output_type": "stream",
     "text": [
      "[#0] WARNING:InputArguments -- The parameter 'rho1' with range [-1, 1] of the RooBukinPdf 'bukin_pdf' exceeds the safe range of (-1, 0). Advise to limit its range.\n",
      "[#0] WARNING:InputArguments -- The parameter 'rho2' with range [0, 2] of the RooBukinPdf 'bukin_pdf' exceeds the safe range of (0, 1). Advise to limit its range.\n",
      "[#0] WARNING:InputArguments -- The parameter 'xi' with range [0, 2] of the RooBukinPdf 'bukin_pdf' exceeds the safe range of (-1, 1). Advise to limit its range.\n",
      "[#1] INFO:NumericIntegration -- RooRealIntegral::init(bukin_pdf_Int[x]) using numeric integrator RooIntegrator1D to calculate Int(x)\n",
      "[#1] INFO:NumericIntegration -- RooRealIntegral::init(bukin_pdf_Int[x]) using numeric integrator RooIntegrator1D to calculate Int(x)\n",
      "[#1] INFO:NumericIntegration -- RooRealIntegral::init(bukin_pdf_Int[x]) using numeric integrator RooIntegrator1D to calculate Int(x)\n"
     ]
    },
    {
     "name": "stderr",
     "output_type": "stream",
     "text": [
      "Warning in <TCanvas::Constructor>: Deleting canvas with same name: c1\n",
      "Info in <TCanvas::Print>: png file BukinPDF_plot.png has been created\n"
     ]
    }
   ],
   "source": [
    "import ROOT\n",
    "from ROOT import RooFit, RooRealVar, RooBukinPdf\n",
    "from IPython.display import Image, display\n",
    "\n",
    "# Define the variable x\n",
    "x = ROOT.RooRealVar(\"x\", \"x\", -10, 10)  # Range for the variable x\n",
    "\n",
    "# Define parameters for the Bukin PDF\n",
    "mean = ROOT.RooRealVar(\"mean\", \"mean\", 10, -20, 20)          # Peak position at 0\n",
    "sigma = ROOT.RooRealVar(\"sigma\", \"sigma\", 50, 10,60)   # Width of the peak\n",
    "xi = ROOT.RooRealVar(\"xi\", \"xi\", 0.001, 0, 2)               # Asymmetry parameter\n",
    "rho1 = ROOT.RooRealVar(\"rho1\", \"rho1\", -0.5, -1, 1)        # First rho parameter\n",
    "rho2 = ROOT.RooRealVar(\"rho2\", \"rho2\", 1, 0, 2)        # Second rho parameter\n",
    "\n",
    "# Create a Bukin PDF\n",
    "bukin_pdf = ROOT.RooBukinPdf(\"bukin_pdf\", \"Bukin PDF\", x, mean, sigma, xi, rho1, rho2)\n",
    "\n",
    "# Generate toy data from the Bukin PDF\n",
    "data = bukin_pdf.generate(ROOT.RooArgSet(x), 10000)\n",
    "\n",
    "# Create a frame for plotting\n",
    "xframe = x.frame(RooFit.Title(\"Bukin PDF\"))\n",
    "\n",
    "# Plot the generated data\n",
    "data.plotOn(xframe)\n",
    "\n",
    "# Plot the Bukin PDF on the same frame\n",
    "bukin_pdf.plotOn(xframe)\n",
    "\n",
    "# Create a canvas to draw the plot\n",
    "c1 = ROOT.TCanvas(\"c1\", \"Bukin PDF\", 800, 600)\n",
    "xframe.Draw()\n",
    "\n",
    "# Save the plot as an image\n",
    "c1.SaveAs(\"BukinPDF_plot.png\")\n",
    "\n",
    "# Display the image in Jupyter notebook\n",
    "display(Image(filename=\"BukinPDF_plot.png\"))\n"
   ]
  },
  {
   "cell_type": "code",
   "execution_count": null,
   "id": "fb1ee4d2",
   "metadata": {},
   "outputs": [],
   "source": []
  }
 ],
 "metadata": {
  "kernelspec": {
   "display_name": "Python 3 (ipykernel)",
   "language": "python",
   "name": "python3"
  },
  "language_info": {
   "codemirror_mode": {
    "name": "ipython",
    "version": 3
   },
   "file_extension": ".py",
   "mimetype": "text/x-python",
   "name": "python",
   "nbconvert_exporter": "python",
   "pygments_lexer": "ipython3",
   "version": "3.10.6"
  }
 },
 "nbformat": 4,
 "nbformat_minor": 5
}
